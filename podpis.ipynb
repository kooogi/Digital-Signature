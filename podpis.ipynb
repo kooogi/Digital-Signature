{
 "cells": [
  {
   "attachments": {},
   "cell_type": "markdown",
   "metadata": {},
   "source": [
    "Podpis cyfrowy - Bartosz Chwilkowski"
   ]
  },
  {
   "attachments": {},
   "cell_type": "markdown",
   "metadata": {},
   "source": [
    "Obliczanie liczby losowej"
   ]
  },
  {
   "cell_type": "code",
   "execution_count": 1,
   "metadata": {},
   "outputs": [],
   "source": [
    "import psutil\n",
    "import mmh3\n",
    "import os\n",
    "import time\n",
    "\n",
    "\n",
    "filename = \"decimal.txt\"\n",
    "filename2 = \"freq.txt\"\n",
    "downloads_folder = os.path.join(os.path.expanduser(\"~\"), \"Downloads\")\n",
    "filepath = os.path.join(downloads_folder, filename)\n",
    "filepath = os.path.join(downloads_folder, filename2)\n",
    "\n",
    "\n",
    "#generowanie liczb losowych\n",
    "def get_cpu_frequency():\n",
    "    freq = psutil.cpu_freq().current\n",
    "    return round(freq, 2) #aktualnie częstotliwość zegara w MHz\n",
    "\n",
    "def MurmurHash(key, seed):\n",
    "    hash_values = mmh3.hash128(key, int(seed))\n",
    "    return hash_values\n",
    "\n",
    "def randNum(n):\n",
    "    #lista liczb losowych\n",
    "    random_sequence = []\n",
    "\n",
    "    #for i in range(1024): #generowanie x liczb\n",
    "    binary_array = [None] * 8\n",
    "    counter = 0\n",
    "\n",
    "        \n",
    "\n",
    "    while counter <= n: #generowanie 8bit liczb\n",
    "        freq1 = int(get_cpu_frequency())\n",
    "        time.sleep(0.01)\n",
    "\n",
    "        key = str(freq1) #string użyty jako klucz\n",
    "            \n",
    "        freq2 = int(get_cpu_frequency()) #używana jako ziarno\n",
    "        time.sleep(0.01)\n",
    "\n",
    "        #funkcja skrótu\n",
    "        hashed = MurmurHash(key, freq2)\n",
    "\n",
    "        #zapis do tablicy binarnej\n",
    "        binary_array[counter - 1] = hashed & 1 #przypisanie LSB do tablicy\n",
    "            \n",
    "        counter+=1\n",
    "\n",
    "        #konwersja na liczbę dziesiętną\n",
    "        binary_string = ''.join(str(bit) for bit in binary_array)\n",
    "        decimal_number = int(binary_string, base=2)\n",
    "\n",
    "\n",
    "        \n",
    "        random_sequence.append(decimal_number)\n",
    "    return random_sequence\n"
   ]
  },
  {
   "attachments": {},
   "cell_type": "markdown",
   "metadata": {},
   "source": [
    "RSA"
   ]
  },
  {
   "cell_type": "code",
   "execution_count": 2,
   "metadata": {},
   "outputs": [],
   "source": [
    "import random\n",
    "import rsa\n",
    "\n",
    "#pliki z kluczami\n",
    "pubkey = \"pub_key.txt\"\n",
    "privkey = \"priv_key.txt\"\n",
    "downloads_folder = os.path.join(os.path.expanduser(\"~\"), \"Downloads\")\n",
    "filepath = os.path.join(downloads_folder, pubkey)\n",
    "filepath = os.path.join(downloads_folder, privkey)\n",
    "\n",
    "#RSA\n",
    "def generate_rsa_key_pair(bit_length):\n",
    "    \n",
    "    rsa.randfunc = randNum #podlaczenie trng, zeby to on pelnil funkcje zrodla losowosci\n",
    "\n",
    "    (private_key, public_key) = rsa.newkeys(bit_length) #wygenerowanie pary kluczy o okreslonej dlugosci\n",
    "\n",
    "    #zapis kluczy do pliku\n",
    "    with open(pubkey, 'w') as file:\n",
    "        file.write(str(public_key))\n",
    "    with open(privkey, 'w') as file:\n",
    "        file.write(str(private_key))\n",
    "    \n",
    "    return private_key, public_key\n",
    "\n",
    "#zaszyfrowanie wiadomosci\n",
    "def encrypt_message(message, private_key):\n",
    "    encode_message = message.encode() \n",
    "    encrypted_message = rsa.encrypt(encode_message, private_key)\n",
    "\n",
    "    return encrypted_message\n",
    "\n",
    "#zdeszyfrowanie wiadomosci\n",
    "def decrypt_message(encrypted_message, public_key):\n",
    "    decrypted_message = rsa.decrypt(encrypted_message, public_key)\n",
    "\n",
    "    return decrypted_message.decode()"
   ]
  },
  {
   "attachments": {},
   "cell_type": "markdown",
   "metadata": {},
   "source": [
    "Podpis cyfrowy - realizacja / uzycie"
   ]
  },
  {
   "cell_type": "code",
   "execution_count": 3,
   "metadata": {},
   "outputs": [
    {
     "name": "stdout",
     "output_type": "stream",
     "text": [
      "Original message: 315f5bdb76d078c43b8ac0064e4a0164612b1fce77c869345bfc94c75894edd3\n",
      "Original message2: 17917df997f039476f4395457bb62dc0819b11219051ca9f50ba24b865358baa\n",
      "Decrypted message: 315f5bdb76d078c43b8ac0064e4a0164612b1fce77c869345bfc94c75894edd3\n",
      "Encrypted message (hex): b'6a628d6e48ad6a84ca8946f9f8b7cc1f135d9463280574279ed38da96ab9f0559002f6bb03d293909bfc6582b508d131dbbbc679313434e939bf10ce86527770e269148f96d710a8c0267ad50a7ad7df128d5c7871574d1f5a2e8bbb7bd7fb26cfb792d1e1dd095780e79514b3fa3249cbabf64fb2152400b80e4e24876798ed'\n",
      "SPRAWDZENIE HASHOW\n",
      "The hashed messages are different.\n"
     ]
    }
   ],
   "source": [
    "import binascii\n",
    "import hashlib\n",
    "\n",
    "def hash_string(message):\n",
    "    # Tworzenie obiektu hashującego SHA-256\n",
    "    hash_object = hashlib.sha256()\n",
    "\n",
    "    # Konwertowanie stringa na bajty i aktualizacja obiektu hashującego\n",
    "    hash_object.update(message.encode('utf-8'))\n",
    "\n",
    "    # Pobranie zahashowanej wartości jako szesnastkowy string\n",
    "    hashed_string = hash_object.hexdigest()\n",
    "\n",
    "    return hashed_string\n",
    "\n",
    "bit_lenght = 1024\n",
    "private_key_pem, public_key_pem = generate_rsa_key_pair(bit_lenght)\n",
    "\n",
    "# Zaszyfruj wiadomość\n",
    "message_1 = \"Hello, world!\"\n",
    "message_2 = \"Helvdhlo, world!\"\n",
    "\n",
    "message = hash_string(message_1)\n",
    "message2 = hash_string(message_2)\n",
    "\n",
    "encrypted_message = encrypt_message(message, private_key_pem)\n",
    "\n",
    "# Odszyfruj wiadomość\n",
    "decrypted_message = decrypt_message(encrypted_message, public_key_pem)\n",
    "\n",
    "print(\"Original message:\", message)\n",
    "print(\"Original message2:\", message2)\n",
    "print(\"Decrypted message:\", decrypted_message)\n",
    "\n",
    "# Wyświetl zaszyfrowaną wiadomość w postaci szesnastkowej\n",
    "encrypted_message_hex = binascii.hexlify(encrypted_message)\n",
    "print(\"Encrypted message (hex):\", encrypted_message_hex)\n",
    "\n",
    "\n",
    "#sprawdzenie kluczy\n",
    "print(\"SPRAWDZENIE HASHOW\")\n",
    "if decrypted_message == message2:\n",
    "    print(\"The hashed messages are the same.\")\n",
    "else:\n",
    "    print(\"The hashed messages are different.\")"
   ]
  },
  {
   "attachments": {},
   "cell_type": "markdown",
   "metadata": {},
   "source": [
    "Proba zdeszyfrowania wiadomosci za pomoca nowo wygenerowanego klucza"
   ]
  },
  {
   "cell_type": "code",
   "execution_count": 4,
   "metadata": {},
   "outputs": [
    {
     "ename": "DecryptionError",
     "evalue": "Decryption failed",
     "output_type": "error",
     "traceback": [
      "\u001b[0;31m---------------------------------------------------------------------------\u001b[0m",
      "\u001b[0;31mDecryptionError\u001b[0m                           Traceback (most recent call last)",
      "Cell \u001b[0;32mIn[4], line 9\u001b[0m\n\u001b[1;32m      4\u001b[0m new_private_key, new_public_key \u001b[39m=\u001b[39m generate_rsa_key_pair(bit_lenght)\n\u001b[1;32m      6\u001b[0m encrypted_message \u001b[39m=\u001b[39m encrypt_message(message, private_key_pem)\n\u001b[0;32m----> 9\u001b[0m decrypted_message1 \u001b[39m=\u001b[39m decrypt_message(encrypted_message, new_public_key)\n\u001b[1;32m     12\u001b[0m decrypted_message_new \u001b[39m=\u001b[39m decrypt_message(encrypted_message, public_key_pem)\n\u001b[1;32m     13\u001b[0m \u001b[39mprint\u001b[39m(\u001b[39m\"\u001b[39m\u001b[39mDecrypted message using orginal private key:\u001b[39m\u001b[39m\"\u001b[39m, decrypted_message_new)\n",
      "Cell \u001b[0;32mIn[2], line 35\u001b[0m, in \u001b[0;36mdecrypt_message\u001b[0;34m(encrypted_message, public_key)\u001b[0m\n\u001b[1;32m     34\u001b[0m \u001b[39mdef\u001b[39;00m \u001b[39mdecrypt_message\u001b[39m(encrypted_message, public_key):\n\u001b[0;32m---> 35\u001b[0m     decrypted_message \u001b[39m=\u001b[39m rsa\u001b[39m.\u001b[39;49mdecrypt(encrypted_message, public_key)\n\u001b[1;32m     37\u001b[0m     \u001b[39mreturn\u001b[39;00m decrypted_message\u001b[39m.\u001b[39mdecode()\n",
      "File \u001b[0;32m~/.local/lib/python3.11/site-packages/rsa/pkcs1.py:282\u001b[0m, in \u001b[0;36mdecrypt\u001b[0;34m(crypto, priv_key)\u001b[0m\n\u001b[1;32m    280\u001b[0m anything_bad \u001b[39m=\u001b[39m cleartext_marker_bad \u001b[39m|\u001b[39m sep_idx_bad\n\u001b[1;32m    281\u001b[0m \u001b[39mif\u001b[39;00m anything_bad:\n\u001b[0;32m--> 282\u001b[0m     \u001b[39mraise\u001b[39;00m DecryptionError(\u001b[39m\"\u001b[39m\u001b[39mDecryption failed\u001b[39m\u001b[39m\"\u001b[39m)\n\u001b[1;32m    284\u001b[0m \u001b[39mreturn\u001b[39;00m cleartext[sep_idx \u001b[39m+\u001b[39m \u001b[39m1\u001b[39m :]\n",
      "\u001b[0;31mDecryptionError\u001b[0m: Decryption failed"
     ]
    }
   ],
   "source": [
    "from rsa import DecryptionError\n",
    "\n",
    "\n",
    "new_private_key, new_public_key = generate_rsa_key_pair(bit_lenght)\n",
    "\n",
    "encrypted_message = encrypt_message(message, private_key_pem)\n",
    "\n",
    "\n",
    "decrypted_message1 = decrypt_message(encrypted_message, new_public_key)\n",
    " \n",
    "\n",
    "decrypted_message_new = decrypt_message(encrypted_message, public_key_pem)\n",
    "print(\"Decrypted message using orginal private key:\", decrypted_message_new)\n",
    "\n",
    "print(\"SPRAWDZENIE HASHOW\")\n",
    "if decrypted_message1 == message2:\n",
    "    print(\"The hashed messages are the same.\")\n",
    "else:\n",
    "    print(\"The hashed messages are different.\")\n"
   ]
  }
 ],
 "metadata": {
  "kernelspec": {
   "display_name": "Python 3",
   "language": "python",
   "name": "python3"
  },
  "language_info": {
   "codemirror_mode": {
    "name": "ipython",
    "version": 3
   },
   "file_extension": ".py",
   "mimetype": "text/x-python",
   "name": "python",
   "nbconvert_exporter": "python",
   "pygments_lexer": "ipython3",
   "version": "3.11.2"
  },
  "orig_nbformat": 4
 },
 "nbformat": 4,
 "nbformat_minor": 2
}
